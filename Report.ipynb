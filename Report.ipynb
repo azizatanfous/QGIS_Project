{
  "nbformat": 4,
  "nbformat_minor": 0,
  "metadata": {
    "colab": {
      "provenance": [],
      "authorship_tag": "ABX9TyPnRtw67JMXa8YOdYOWCjl4",
      "include_colab_link": true
    },
    "kernelspec": {
      "name": "python3",
      "display_name": "Python 3"
    },
    "language_info": {
      "name": "python"
    }
  },
  "cells": [
    {
      "cell_type": "markdown",
      "metadata": {
        "id": "view-in-github",
        "colab_type": "text"
      },
      "source": [
        "<a href=\"https://colab.research.google.com/github/azizatanfous/QGIS_Project/blob/main/Report.ipynb\" target=\"_parent\"><img src=\"https://colab.research.google.com/assets/colab-badge.svg\" alt=\"Open In Colab\"/></a>"
      ]
    },
    {
      "cell_type": "markdown",
      "source": [],
      "metadata": {
        "id": "efg90UyNImxS"
      }
    },
    {
      "cell_type": "markdown",
      "source": [
        "\n",
        "# <center>**Report of Geographic Information Systems Assignement**<center>\n",
        "\n",
        "\n",
        "\n",
        "\n",
        "\n"
      ],
      "metadata": {
        "id": "xSmbabISTMfj"
      }
    },
    {
      "cell_type": "markdown",
      "source": [
        "Students:\n",
        "\n",
        ">\n",
        "\n",
        "*   Aziza Ben Tanfous (n° 27156) \n",
        "*   Johanna Rauberger (n° 27492 ) \n",
        "\n",
        "\n",
        "\n"
      ],
      "metadata": {
        "id": "4fLHoBbjTjGy"
      }
    },
    {
      "cell_type": "markdown",
      "source": [
        "**Problem 01**\n",
        "\n",
        "---\n",
        "\n"
      ],
      "metadata": {
        "id": "7e5juKHKgJA7"
      }
    },
    {
      "cell_type": "markdown",
      "source": [
        "**Question 1:**\n",
        "\n",
        "\n",
        "> \n",
        "1. Download the SRTM DEM data from http://earthexplorer.usgs.gov/ and extract the area of interest using the coordinates. We changed the c\n",
        "2. Open QGIS and go to Layer > Add Layer > Add Raster Layer.\n",
        "3. Browse to the downloaded SRTM DEM data and add it to the map canvas.\n",
        "4. Use the Clip Raster by Extent tool from the Processing Toolbox (Processing > Toolbox) to extract the study area extent.\n",
        "5. Set the input layer as the SRTM DEM data, set the extent to the given coordinates (Xmin, Ymin, Xmax, Ymax), and save the output file.\n",
        "\n",
        "\n",
        "\n"
      ],
      "metadata": {
        "id": "UEootLU5gOj_"
      }
    },
    {
      "cell_type": "markdown",
      "source": [
        "**Question 2:** "
      ],
      "metadata": {
        "id": "kZMbce-mIkPb"
      }
    }
  ]
}